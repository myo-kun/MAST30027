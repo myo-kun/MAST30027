{
 "cells": [
  {
   "cell_type": "markdown",
   "metadata": {},
   "source": [
    "## Question 1\n",
    "### (a) & (b)"
   ]
  },
  {
   "cell_type": "code",
   "execution_count": 1,
   "metadata": {},
   "outputs": [],
   "source": [
    "library(\"faraway\")\n",
    "data(wbca)\n",
    "?wbca"
   ]
  },
  {
   "cell_type": "code",
   "execution_count": 28,
   "metadata": {},
   "outputs": [],
   "source": [
    "bin_reg = glm(cbind(Class, 1 - Class)~., family = binomial, data=wbca)"
   ]
  },
  {
   "cell_type": "code",
   "execution_count": 29,
   "metadata": {
    "scrolled": true
   },
   "outputs": [
    {
     "data": {
      "text/plain": [
       "\n",
       "Call:\n",
       "glm(formula = cbind(Class, 1 - Class) ~ ., family = binomial, \n",
       "    data = wbca)\n",
       "\n",
       "Deviance Residuals: \n",
       "     Min        1Q    Median        3Q       Max  \n",
       "-2.48282  -0.01179   0.04739   0.09678   3.06425  \n",
       "\n",
       "Coefficients:\n",
       "            Estimate Std. Error z value Pr(>|z|)    \n",
       "(Intercept) 11.16678    1.41491   7.892 2.97e-15 ***\n",
       "Adhes       -0.39681    0.13384  -2.965  0.00303 ** \n",
       "BNucl       -0.41478    0.10230  -4.055 5.02e-05 ***\n",
       "Chrom       -0.56456    0.18728  -3.014  0.00257 ** \n",
       "Epith       -0.06440    0.16595  -0.388  0.69795    \n",
       "Mitos       -0.65713    0.36764  -1.787  0.07387 .  \n",
       "NNucl       -0.28659    0.12620  -2.271  0.02315 *  \n",
       "Thick       -0.62675    0.15890  -3.944 8.01e-05 ***\n",
       "UShap       -0.28011    0.25235  -1.110  0.26699    \n",
       "USize        0.05718    0.23271   0.246  0.80589    \n",
       "---\n",
       "Signif. codes:  0 ‘***’ 0.001 ‘**’ 0.01 ‘*’ 0.05 ‘.’ 0.1 ‘ ’ 1\n",
       "\n",
       "(Dispersion parameter for binomial family taken to be 1)\n",
       "\n",
       "    Null deviance: 881.388  on 680  degrees of freedom\n",
       "Residual deviance:  89.464  on 671  degrees of freedom\n",
       "AIC: 109.46\n",
       "\n",
       "Number of Fisher Scoring iterations: 8\n"
      ]
     },
     "metadata": {},
     "output_type": "display_data"
    }
   ],
   "source": [
    "summary(bin_reg)"
   ]
  },
  {
   "cell_type": "markdown",
   "metadata": {},
   "source": [
    "### (c) step function to find parsimonius model"
   ]
  },
  {
   "cell_type": "code",
   "execution_count": 30,
   "metadata": {},
   "outputs": [
    {
     "name": "stdout",
     "output_type": "stream",
     "text": [
      "Start:  AIC=109.46\n",
      "cbind(Class, 1 - Class) ~ Adhes + BNucl + Chrom + Epith + Mitos + \n",
      "    NNucl + Thick + UShap + USize\n",
      "\n",
      "        Df Deviance    AIC\n",
      "- USize  1   89.523 107.52\n",
      "- Epith  1   89.613 107.61\n",
      "- UShap  1   90.627 108.63\n",
      "<none>       89.464 109.46\n",
      "- Mitos  1   93.551 111.55\n",
      "- NNucl  1   95.204 113.20\n",
      "- Adhes  1   98.844 116.84\n",
      "- Chrom  1   99.841 117.84\n",
      "- BNucl  1  109.000 127.00\n",
      "- Thick  1  110.239 128.24\n",
      "\n",
      "Step:  AIC=107.52\n",
      "cbind(Class, 1 - Class) ~ Adhes + BNucl + Chrom + Epith + Mitos + \n",
      "    NNucl + Thick + UShap\n",
      "\n",
      "        Df Deviance    AIC\n",
      "- Epith  1   89.662 105.66\n",
      "- UShap  1   91.355 107.36\n",
      "<none>       89.523 107.52\n",
      "- Mitos  1   93.552 109.55\n",
      "- NNucl  1   95.231 111.23\n",
      "- Adhes  1   99.042 115.04\n",
      "- Chrom  1  100.153 116.15\n",
      "- BNucl  1  109.064 125.06\n",
      "- Thick  1  110.465 126.47\n",
      "\n",
      "Step:  AIC=105.66\n",
      "cbind(Class, 1 - Class) ~ Adhes + BNucl + Chrom + Mitos + NNucl + \n",
      "    Thick + UShap\n",
      "\n",
      "        Df Deviance    AIC\n",
      "<none>       89.662 105.66\n",
      "- UShap  1   91.884 105.88\n",
      "- Mitos  1   93.714 107.71\n",
      "- NNucl  1   95.853 109.85\n",
      "- Adhes  1  100.126 114.13\n",
      "- Chrom  1  100.844 114.84\n",
      "- BNucl  1  109.762 123.76\n",
      "- Thick  1  110.632 124.63\n"
     ]
    },
    {
     "data": {
      "text/plain": [
       "\n",
       "Call:\n",
       "glm(formula = cbind(Class, 1 - Class) ~ Adhes + BNucl + Chrom + \n",
       "    Mitos + NNucl + Thick + UShap, family = binomial, data = wbca)\n",
       "\n",
       "Deviance Residuals: \n",
       "     Min        1Q    Median        3Q       Max  \n",
       "-2.44161  -0.01119   0.04962   0.09741   3.08205  \n",
       "\n",
       "Coefficients:\n",
       "            Estimate Std. Error z value Pr(>|z|)    \n",
       "(Intercept)  11.0333     1.3632   8.094 5.79e-16 ***\n",
       "Adhes        -0.3984     0.1294  -3.080  0.00207 ** \n",
       "BNucl        -0.4192     0.1020  -4.111 3.93e-05 ***\n",
       "Chrom        -0.5679     0.1840  -3.085  0.00203 ** \n",
       "Mitos        -0.6456     0.3634  -1.777  0.07561 .  \n",
       "NNucl        -0.2915     0.1236  -2.358  0.01837 *  \n",
       "Thick        -0.6216     0.1579  -3.937 8.27e-05 ***\n",
       "UShap        -0.2541     0.1785  -1.423  0.15461    \n",
       "---\n",
       "Signif. codes:  0 ‘***’ 0.001 ‘**’ 0.01 ‘*’ 0.05 ‘.’ 0.1 ‘ ’ 1\n",
       "\n",
       "(Dispersion parameter for binomial family taken to be 1)\n",
       "\n",
       "    Null deviance: 881.388  on 680  degrees of freedom\n",
       "Residual deviance:  89.662  on 673  degrees of freedom\n",
       "AIC: 105.66\n",
       "\n",
       "Number of Fisher Scoring iterations: 8\n"
      ]
     },
     "metadata": {},
     "output_type": "display_data"
    }
   ],
   "source": [
    "bin_reg2 = step(bin_reg)\n",
    "summary(bin_reg2)"
   ]
  },
  {
   "cell_type": "markdown",
   "metadata": {},
   "source": [
    "### (d) predict"
   ]
  },
  {
   "cell_type": "markdown",
   "metadata": {},
   "source": [
    "`type='link'` is important"
   ]
  },
  {
   "cell_type": "code",
   "execution_count": 31,
   "metadata": {
    "scrolled": true
   },
   "outputs": [
    {
     "data": {
      "text/html": [
       "<dl>\n",
       "\t<dt>$fit</dt>\n",
       "\t\t<dd><strong>1:</strong> 4.8344280026486</dd>\n",
       "\t<dt>$se.fit</dt>\n",
       "\t\t<dd>0.581518529325593</dd>\n",
       "\t<dt>$residual.scale</dt>\n",
       "\t\t<dd>1</dd>\n",
       "</dl>\n"
      ],
      "text/latex": [
       "\\begin{description}\n",
       "\\item[\\$fit] \\textbf{1:} 4.8344280026486\n",
       "\\item[\\$se.fit] 0.581518529325593\n",
       "\\item[\\$residual.scale] 1\n",
       "\\end{description}\n"
      ],
      "text/markdown": [
       "$fit\n",
       ":   **1:** 4.8344280026486\n",
       "$se.fit\n",
       ":   0.581518529325593\n",
       "$residual.scale\n",
       ":   1\n",
       "\n",
       "\n"
      ],
      "text/plain": [
       "$fit\n",
       "       1 \n",
       "4.834428 \n",
       "\n",
       "$se.fit\n",
       "[1] 0.5815185\n",
       "\n",
       "$residual.scale\n",
       "[1] 1\n"
      ]
     },
     "metadata": {},
     "output_type": "display_data"
    }
   ],
   "source": [
    "newdata = list(Adhes=1, BNucl=1, Chrom=3, Mitos=1, NNucl=1, Thick=4, UShap=1)\n",
    "(x = predict(bin_reg2, newdata = newdata, type = 'link', se.fit = TRUE))"
   ]
  },
  {
   "cell_type": "code",
   "execution_count": 32,
   "metadata": {},
   "outputs": [
    {
     "data": {
      "text/html": [
       "<style>\n",
       ".dl-inline {width: auto; margin:0; padding: 0}\n",
       ".dl-inline>dt, .dl-inline>dd {float: none; width: auto; display: inline-block}\n",
       ".dl-inline>dt::after {content: \":\\0020\"; padding-right: .5ex}\n",
       ".dl-inline>dt:not(:first-of-type) {padding-left: .5ex}\n",
       "</style><dl class=dl-inline><dt>1</dt><dd>3.69465168517044</dd><dt>1</dt><dd>4.8344280026486</dd><dt>1</dt><dd>5.97420432012677</dd></dl>\n"
      ],
      "text/latex": [
       "\\begin{description*}\n",
       "\\item[1] 3.69465168517044\n",
       "\\item[1] 4.8344280026486\n",
       "\\item[1] 5.97420432012677\n",
       "\\end{description*}\n"
      ],
      "text/markdown": [
       "1\n",
       ":   3.694651685170441\n",
       ":   4.83442800264861\n",
       ":   5.97420432012677\n",
       "\n"
      ],
      "text/plain": [
       "       1        1        1 \n",
       "3.694652 4.834428 5.974204 "
      ]
     },
     "metadata": {},
     "output_type": "display_data"
    }
   ],
   "source": [
    "c(x$fit-1.96*x$se.fit, x$fit, x$fit+1.96*x$se.fit)"
   ]
  },
  {
   "cell_type": "code",
   "execution_count": 33,
   "metadata": {
    "scrolled": true
   },
   "outputs": [
    {
     "data": {
      "text/html": [
       "<style>\n",
       ".dl-inline {width: auto; margin:0; padding: 0}\n",
       ".dl-inline>dt, .dl-inline>dd {float: none; width: auto; display: inline-block}\n",
       ".dl-inline>dt::after {content: \":\\0020\"; padding-right: .5ex}\n",
       ".dl-inline>dt:not(:first-of-type) {padding-left: .5ex}\n",
       "</style><dl class=dl-inline><dt>1</dt><dd>0.975746731988742</dd><dt>1</dt><dd>0.992111488301295</dd><dt>1</dt><dd>0.997462927992804</dd></dl>\n"
      ],
      "text/latex": [
       "\\begin{description*}\n",
       "\\item[1] 0.975746731988742\n",
       "\\item[1] 0.992111488301295\n",
       "\\item[1] 0.997462927992804\n",
       "\\end{description*}\n"
      ],
      "text/markdown": [
       "1\n",
       ":   0.9757467319887421\n",
       ":   0.9921114883012951\n",
       ":   0.997462927992804\n",
       "\n"
      ],
      "text/plain": [
       "        1         1         1 \n",
       "0.9757467 0.9921115 0.9974629 "
      ]
     },
     "metadata": {},
     "output_type": "display_data"
    }
   ],
   "source": [
    "ilogit(c(x$fit-1.96*x$se.fit, x$fit, x$fit+1.96*x$se.fit))"
   ]
  },
  {
   "cell_type": "markdown",
   "metadata": {},
   "source": [
    "$\\beta \\sim MVN$ -> $x^T\\beta \\sim MVN$\n",
    "get a CI based on MVN, so transform into reponse scale <br/>\n",
    "$g^{-1}(x^T\\hat{\\beta})$ with s.e. = *** <br/>\n",
    "and use point estimate +/- quantile * se\n",
    "but not good, as $g^{-1}(x^T\\hat{\\beta})$ doesn't follow MVN (too many approximation)"
   ]
  },
  {
   "cell_type": "markdown",
   "metadata": {},
   "source": [
    "If you only need point estimate"
   ]
  },
  {
   "cell_type": "code",
   "execution_count": 34,
   "metadata": {},
   "outputs": [
    {
     "data": {
      "text/html": [
       "<strong>1:</strong> 0.992111488301295"
      ],
      "text/latex": [
       "\\textbf{1:} 0.992111488301295"
      ],
      "text/markdown": [
       "**1:** 0.992111488301295"
      ],
      "text/plain": [
       "        1 \n",
       "0.9921115 "
      ]
     },
     "metadata": {},
     "output_type": "display_data"
    }
   ],
   "source": [
    "predict(bin_reg2, newdata = newdata, type = 'response')"
   ]
  },
  {
   "cell_type": "markdown",
   "metadata": {},
   "source": [
    "### (e) false negative"
   ]
  },
  {
   "cell_type": "code",
   "execution_count": 41,
   "metadata": {},
   "outputs": [],
   "source": [
    "pfit = predict(bin_reg2, type = 'response')"
   ]
  },
  {
   "cell_type": "code",
   "execution_count": 44,
   "metadata": {},
   "outputs": [
    {
     "data": {
      "text/html": [
       "0.046218487394958"
      ],
      "text/latex": [
       "0.046218487394958"
      ],
      "text/markdown": [
       "0.046218487394958"
      ],
      "text/plain": [
       "[1] 0.04621849"
      ]
     },
     "metadata": {},
     "output_type": "display_data"
    }
   ],
   "source": [
    "(false_neg = sum(pfit >= 0.5 & !wbca$Class)/sum(!wbca$Class))"
   ]
  },
  {
   "cell_type": "code",
   "execution_count": 45,
   "metadata": {},
   "outputs": [
    {
     "data": {
      "text/html": [
       "0.0203160270880361"
      ],
      "text/latex": [
       "0.0203160270880361"
      ],
      "text/markdown": [
       "0.0203160270880361"
      ],
      "text/plain": [
       "[1] 0.02031603"
      ]
     },
     "metadata": {},
     "output_type": "display_data"
    }
   ],
   "source": [
    "(false_pos = sum(pfit < 0.5 &  wbca$Class)/sum(wbca$Class))"
   ]
  },
  {
   "cell_type": "markdown",
   "metadata": {},
   "source": [
    "### (f) cutoff = 0.9"
   ]
  },
  {
   "cell_type": "code",
   "execution_count": 46,
   "metadata": {},
   "outputs": [
    {
     "data": {
      "text/html": [
       "0.00420168067226891"
      ],
      "text/latex": [
       "0.00420168067226891"
      ],
      "text/markdown": [
       "0.00420168067226891"
      ],
      "text/plain": [
       "[1] 0.004201681"
      ]
     },
     "metadata": {},
     "output_type": "display_data"
    }
   ],
   "source": [
    "(false_neg = sum(pfit >= 0.9 & !wbca$Class)/sum(!wbca$Class))"
   ]
  },
  {
   "cell_type": "code",
   "execution_count": 47,
   "metadata": {},
   "outputs": [
    {
     "data": {
      "text/html": [
       "0.036117381489842"
      ],
      "text/latex": [
       "0.036117381489842"
      ],
      "text/markdown": [
       "0.036117381489842"
      ],
      "text/plain": [
       "[1] 0.03611738"
      ]
     },
     "metadata": {},
     "output_type": "display_data"
    }
   ],
   "source": [
    "(false_pos = sum(pfit < 0.9 &  wbca$Class)/sum(wbca$Class))"
   ]
  },
  {
   "cell_type": "markdown",
   "metadata": {},
   "source": [
    "Clearly there is a trade-off between false positives and false negatives. Where you choose the cut-off depends on the relative costs (individial and societal) in each case. For medical tests we usually prefer to reduce the false negative rate at the expense of increasing the false positive rate, especially for a screening test, where there is the opportunity for further testing following a positive result."
   ]
  },
  {
   "cell_type": "markdown",
   "metadata": {},
   "source": [
    "For medical test we usually prefer to reduce the false negative rate."
   ]
  },
  {
   "cell_type": "markdown",
   "metadata": {},
   "source": [
    "## Question 2\n",
    "### (a)"
   ]
  },
  {
   "cell_type": "code",
   "execution_count": 48,
   "metadata": {},
   "outputs": [],
   "source": [
    "?pima"
   ]
  },
  {
   "cell_type": "code",
   "execution_count": 51,
   "metadata": {},
   "outputs": [],
   "source": [
    "missing <- with(pima, missing <- glucose==0 | diastolic==0 | triceps==0 | bmi == 0)\n",
    "pima <- pima[!missing,]"
   ]
  },
  {
   "cell_type": "code",
   "execution_count": 54,
   "metadata": {},
   "outputs": [
    {
     "data": {
      "text/plain": [
       "\n",
       "Call:\n",
       "glm(formula = cbind(test, 1 - test) ~ ., family = binomial, data = pima)\n",
       "\n",
       "Deviance Residuals: \n",
       "    Min       1Q   Median       3Q      Max  \n",
       "-2.8627  -0.6639  -0.3672   0.6347   2.4942  \n",
       "\n",
       "Coefficients:\n",
       "             Estimate Std. Error z value Pr(>|z|)    \n",
       "(Intercept) -9.677562   1.005400  -9.626  < 2e-16 ***\n",
       "pregnant     0.121235   0.043926   2.760 0.005780 ** \n",
       "glucose      0.037439   0.004765   7.857 3.92e-15 ***\n",
       "diastolic   -0.009316   0.010446  -0.892 0.372494    \n",
       "triceps      0.006341   0.014853   0.427 0.669426    \n",
       "insulin     -0.001053   0.001007  -1.046 0.295651    \n",
       "bmi          0.085992   0.023661   3.634 0.000279 ***\n",
       "diabetes     1.335764   0.365771   3.652 0.000260 ***\n",
       "age          0.026430   0.013962   1.893 0.058371 .  \n",
       "---\n",
       "Signif. codes:  0 ‘***’ 0.001 ‘**’ 0.01 ‘*’ 0.05 ‘.’ 0.1 ‘ ’ 1\n",
       "\n",
       "(Dispersion parameter for binomial family taken to be 1)\n",
       "\n",
       "    Null deviance: 676.79  on 531  degrees of freedom\n",
       "Residual deviance: 465.23  on 523  degrees of freedom\n",
       "AIC: 483.23\n",
       "\n",
       "Number of Fisher Scoring iterations: 5\n"
      ]
     },
     "metadata": {},
     "output_type": "display_data"
    }
   ],
   "source": [
    "bin_reg = glm(cbind(test, 1 - test)~., family = binomial, data=pima)\n",
    "summary(bin_reg)"
   ]
  },
  {
   "cell_type": "markdown",
   "metadata": {},
   "source": [
    "### (b) correlation"
   ]
  },
  {
   "cell_type": "code",
   "execution_count": 55,
   "metadata": {},
   "outputs": [
    {
     "data": {
      "text/html": [
       "<table>\n",
       "<caption>A matrix: 9 × 9 of type dbl</caption>\n",
       "<thead>\n",
       "\t<tr><th></th><th scope=col>pregnant</th><th scope=col>glucose</th><th scope=col>diastolic</th><th scope=col>triceps</th><th scope=col>insulin</th><th scope=col>bmi</th><th scope=col>diabetes</th><th scope=col>age</th><th scope=col>test</th></tr>\n",
       "</thead>\n",
       "<tbody>\n",
       "\t<tr><th scope=row>pregnant</th><td> 1.000</td><td>0.125</td><td>0.205</td><td>0.095</td><td>-0.007</td><td>0.009</td><td>0.007</td><td>0.641</td><td>0.253</td></tr>\n",
       "\t<tr><th scope=row>glucose</th><td> 0.125</td><td>1.000</td><td>0.219</td><td>0.227</td><td> 0.460</td><td>0.247</td><td>0.166</td><td>0.279</td><td>0.504</td></tr>\n",
       "\t<tr><th scope=row>diastolic</th><td> 0.205</td><td>0.219</td><td>1.000</td><td>0.226</td><td> 0.007</td><td>0.307</td><td>0.008</td><td>0.347</td><td>0.183</td></tr>\n",
       "\t<tr><th scope=row>triceps</th><td> 0.095</td><td>0.227</td><td>0.226</td><td>1.000</td><td> 0.126</td><td>0.647</td><td>0.119</td><td>0.161</td><td>0.255</td></tr>\n",
       "\t<tr><th scope=row>insulin</th><td>-0.007</td><td>0.460</td><td>0.007</td><td>0.126</td><td> 1.000</td><td>0.191</td><td>0.152</td><td>0.081</td><td>0.212</td></tr>\n",
       "\t<tr><th scope=row>bmi</th><td> 0.009</td><td>0.247</td><td>0.307</td><td>0.647</td><td> 0.191</td><td>1.000</td><td>0.151</td><td>0.073</td><td>0.301</td></tr>\n",
       "\t<tr><th scope=row>diabetes</th><td> 0.007</td><td>0.166</td><td>0.008</td><td>0.119</td><td> 0.152</td><td>0.151</td><td>1.000</td><td>0.072</td><td>0.233</td></tr>\n",
       "\t<tr><th scope=row>age</th><td> 0.641</td><td>0.279</td><td>0.347</td><td>0.161</td><td> 0.081</td><td>0.073</td><td>0.072</td><td>1.000</td><td>0.315</td></tr>\n",
       "\t<tr><th scope=row>test</th><td> 0.253</td><td>0.504</td><td>0.183</td><td>0.255</td><td> 0.212</td><td>0.301</td><td>0.233</td><td>0.315</td><td>1.000</td></tr>\n",
       "</tbody>\n",
       "</table>\n"
      ],
      "text/latex": [
       "A matrix: 9 × 9 of type dbl\n",
       "\\begin{tabular}{r|lllllllll}\n",
       "  & pregnant & glucose & diastolic & triceps & insulin & bmi & diabetes & age & test\\\\\n",
       "\\hline\n",
       "\tpregnant &  1.000 & 0.125 & 0.205 & 0.095 & -0.007 & 0.009 & 0.007 & 0.641 & 0.253\\\\\n",
       "\tglucose &  0.125 & 1.000 & 0.219 & 0.227 &  0.460 & 0.247 & 0.166 & 0.279 & 0.504\\\\\n",
       "\tdiastolic &  0.205 & 0.219 & 1.000 & 0.226 &  0.007 & 0.307 & 0.008 & 0.347 & 0.183\\\\\n",
       "\ttriceps &  0.095 & 0.227 & 0.226 & 1.000 &  0.126 & 0.647 & 0.119 & 0.161 & 0.255\\\\\n",
       "\tinsulin & -0.007 & 0.460 & 0.007 & 0.126 &  1.000 & 0.191 & 0.152 & 0.081 & 0.212\\\\\n",
       "\tbmi &  0.009 & 0.247 & 0.307 & 0.647 &  0.191 & 1.000 & 0.151 & 0.073 & 0.301\\\\\n",
       "\tdiabetes &  0.007 & 0.166 & 0.008 & 0.119 &  0.152 & 0.151 & 1.000 & 0.072 & 0.233\\\\\n",
       "\tage &  0.641 & 0.279 & 0.347 & 0.161 &  0.081 & 0.073 & 0.072 & 1.000 & 0.315\\\\\n",
       "\ttest &  0.253 & 0.504 & 0.183 & 0.255 &  0.212 & 0.301 & 0.233 & 0.315 & 1.000\\\\\n",
       "\\end{tabular}\n"
      ],
      "text/markdown": [
       "\n",
       "A matrix: 9 × 9 of type dbl\n",
       "\n",
       "| <!--/--> | pregnant | glucose | diastolic | triceps | insulin | bmi | diabetes | age | test |\n",
       "|---|---|---|---|---|---|---|---|---|---|\n",
       "| pregnant |  1.000 | 0.125 | 0.205 | 0.095 | -0.007 | 0.009 | 0.007 | 0.641 | 0.253 |\n",
       "| glucose |  0.125 | 1.000 | 0.219 | 0.227 |  0.460 | 0.247 | 0.166 | 0.279 | 0.504 |\n",
       "| diastolic |  0.205 | 0.219 | 1.000 | 0.226 |  0.007 | 0.307 | 0.008 | 0.347 | 0.183 |\n",
       "| triceps |  0.095 | 0.227 | 0.226 | 1.000 |  0.126 | 0.647 | 0.119 | 0.161 | 0.255 |\n",
       "| insulin | -0.007 | 0.460 | 0.007 | 0.126 |  1.000 | 0.191 | 0.152 | 0.081 | 0.212 |\n",
       "| bmi |  0.009 | 0.247 | 0.307 | 0.647 |  0.191 | 1.000 | 0.151 | 0.073 | 0.301 |\n",
       "| diabetes |  0.007 | 0.166 | 0.008 | 0.119 |  0.152 | 0.151 | 1.000 | 0.072 | 0.233 |\n",
       "| age |  0.641 | 0.279 | 0.347 | 0.161 |  0.081 | 0.073 | 0.072 | 1.000 | 0.315 |\n",
       "| test |  0.253 | 0.504 | 0.183 | 0.255 |  0.212 | 0.301 | 0.233 | 0.315 | 1.000 |\n",
       "\n"
      ],
      "text/plain": [
       "          pregnant glucose diastolic triceps insulin bmi   diabetes age   test \n",
       "pregnant   1.000   0.125   0.205     0.095   -0.007  0.009 0.007    0.641 0.253\n",
       "glucose    0.125   1.000   0.219     0.227    0.460  0.247 0.166    0.279 0.504\n",
       "diastolic  0.205   0.219   1.000     0.226    0.007  0.307 0.008    0.347 0.183\n",
       "triceps    0.095   0.227   0.226     1.000    0.126  0.647 0.119    0.161 0.255\n",
       "insulin   -0.007   0.460   0.007     0.126    1.000  0.191 0.152    0.081 0.212\n",
       "bmi        0.009   0.247   0.307     0.647    0.191  1.000 0.151    0.073 0.301\n",
       "diabetes   0.007   0.166   0.008     0.119    0.152  0.151 1.000    0.072 0.233\n",
       "age        0.641   0.279   0.347     0.161    0.081  0.073 0.072    1.000 0.315\n",
       "test       0.253   0.504   0.183     0.255    0.212  0.301 0.233    0.315 1.000"
      ]
     },
     "metadata": {},
     "output_type": "display_data"
    }
   ],
   "source": [
    "round(cor(pima), 3)"
   ]
  },
  {
   "cell_type": "markdown",
   "metadata": {},
   "source": [
    "From the correlation, test and diastolic are positive correlated (0.183)<br/>"
   ]
  },
  {
   "cell_type": "markdown",
   "metadata": {},
   "source": [
    "### (c) Predict"
   ]
  },
  {
   "cell_type": "code",
   "execution_count": 60,
   "metadata": {},
   "outputs": [
    {
     "data": {
      "text/html": [
       "<dl>\n",
       "\t<dt>$fit</dt>\n",
       "\t\t<dd><strong>1:</strong> -3.07018302455369</dd>\n",
       "\t<dt>$se.fit</dt>\n",
       "\t\t<dd>0.270125977699776</dd>\n",
       "\t<dt>$residual.scale</dt>\n",
       "\t\t<dd>1</dd>\n",
       "</dl>\n"
      ],
      "text/latex": [
       "\\begin{description}\n",
       "\\item[\\$fit] \\textbf{1:} -3.07018302455369\n",
       "\\item[\\$se.fit] 0.270125977699776\n",
       "\\item[\\$residual.scale] 1\n",
       "\\end{description}\n"
      ],
      "text/markdown": [
       "$fit\n",
       ":   **1:** -3.07018302455369\n",
       "$se.fit\n",
       ":   0.270125977699776\n",
       "$residual.scale\n",
       ":   1\n",
       "\n",
       "\n"
      ],
      "text/plain": [
       "$fit\n",
       "        1 \n",
       "-3.070183 \n",
       "\n",
       "$se.fit\n",
       "[1] 0.270126\n",
       "\n",
       "$residual.scale\n",
       "[1] 1\n"
      ]
     },
     "metadata": {},
     "output_type": "display_data"
    }
   ],
   "source": [
    "(x <- predict(bin_reg, newdata = list(pregnant=1, glucose=99, diastolic=64, triceps = 22, insulin = 76, bmi = 27, diabetes = 0.25, age = 25), type=\"link\", se.fit=TRUE))"
   ]
  },
  {
   "cell_type": "code",
   "execution_count": 59,
   "metadata": {},
   "outputs": [
    {
     "data": {
      "text/html": [
       "<style>\n",
       ".dl-inline {width: auto; margin:0; padding: 0}\n",
       ".dl-inline>dt, .dl-inline>dd {float: none; width: auto; display: inline-block}\n",
       ".dl-inline>dt::after {content: \":\\0020\"; padding-right: .5ex}\n",
       ".dl-inline>dt:not(:first-of-type) {padding-left: .5ex}\n",
       "</style><dl class=dl-inline><dt>1</dt><dd>0.0263281666189138</dd><dt>1</dt><dd>0.0443540691196353</dd><dt>1</dt><dd>0.0737863573311639</dd></dl>\n"
      ],
      "text/latex": [
       "\\begin{description*}\n",
       "\\item[1] 0.0263281666189138\n",
       "\\item[1] 0.0443540691196353\n",
       "\\item[1] 0.0737863573311639\n",
       "\\end{description*}\n"
      ],
      "text/markdown": [
       "1\n",
       ":   0.02632816661891381\n",
       ":   0.04435406911963531\n",
       ":   0.0737863573311639\n",
       "\n"
      ],
      "text/plain": [
       "         1          1          1 \n",
       "0.02632817 0.04435407 0.07378636 "
      ]
     },
     "metadata": {},
     "output_type": "display_data"
    }
   ],
   "source": [
    "ilogit(c(x$fit-2*x$se.fit, x$fit, x$fit+2*x$se.fit))"
   ]
  },
  {
   "cell_type": "markdown",
   "metadata": {},
   "source": [
    "## Question 3\n",
    "### (a)"
   ]
  },
  {
   "cell_type": "code",
   "execution_count": 61,
   "metadata": {},
   "outputs": [],
   "source": [
    "data(orings)\n",
    "logitmod <- glm(cbind(damage,6-damage) ~ temp, family=binomial, orings)\n",
    "\n",
    "# log-likelihood function\n",
    "logL <- function(beta, orings) {\n",
    "    eta <- cbind(1, orings$temp) %*% beta\n",
    "    return( sum(orings$damage*eta - 6*log(1 + exp(eta))) )\n",
    "}"
   ]
  },
  {
   "cell_type": "code",
   "execution_count": 66,
   "metadata": {},
   "outputs": [],
   "source": [
    "# log-likelihood ratio for beta = c(a, b) against beta = betafit\n",
    "logLR <- function(a, b, betafit, orings){\n",
    "    # H0: beta = c(a, b)\n",
    "    # 2 log (L(beta,mle)/L(beta) ) = 2 logL(beta.mle) - 2logL(beta) ~ chisq(2) under H0\n",
    "    # if 2log(LR) < qchisq(0.95, 2) -> do not reject as inside confidence region\n",
    "    2*logL(betafit, orings) - 2*logL(c(a, b), orings)\n",
    "}"
   ]
  },
  {
   "cell_type": "code",
   "execution_count": 68,
   "metadata": {},
   "outputs": [],
   "source": [
    "# interested in c(a, b) such that f(a, b, ...) <= qchisq(0.95, 2)\n",
    "a_vec <- seq(2, 22, 0.1)\n",
    "b_vec <- seq(-0.4, -0.05, .005)\n",
    "z <- matrix(0, nrow = length(a_vec), ncol = length(b_vec))"
   ]
  },
  {
   "cell_type": "code",
   "execution_count": 69,
   "metadata": {},
   "outputs": [],
   "source": [
    "for (i in 1:length(a_vec)) {\n",
    "    for (j in 1:length(b_vec)) {\n",
    "        z[i, j] <- logLR(a_vec[i], b_vec[j], logitmod$coefficients, orings)\n",
    "    }\n",
    "}\n",
    "# Alternatively\n",
    "# z <- outer(a_vec, b_vec, Vectorize(logLR, c(\"a\", \"b\")), betafit = logitmod$coefficients, orings = orings)"
   ]
  },
  {
   "cell_type": "code",
   "execution_count": 70,
   "metadata": {},
   "outputs": [
    {
     "data": {
      "image/png": "[encoded data removed]",
      "text/plain": [
       "Plot with title “95% confidence region”"
      ]
     },
     "metadata": {
      "image/png": {
       "height": 420,
       "width": 420
      }
     },
     "output_type": "display_data"
    }
   ],
   "source": [
    "contour(a_vec, b_vec, z, levels = qchisq(0.95, 2), xlab=\"a\", ylab=\"b\", main=\"95% confidence region\")"
   ]
  },
  {
   "cell_type": "code",
   "execution_count": null,
   "metadata": {},
   "outputs": [],
   "source": []
  }
 ],
 "metadata": {
  "kernelspec": {
   "display_name": "R",
   "language": "R",
   "name": "ir"
  },
  "language_info": {
   "codemirror_mode": "r",
   "file_extension": ".r",
   "mimetype": "text/x-r-source",
   "name": "R",
   "pygments_lexer": "r",
   "version": "4.0.2"
  }
 },
 "nbformat": 4,
 "nbformat_minor": 4
}
